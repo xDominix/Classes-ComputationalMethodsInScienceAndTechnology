{
 "cells": [
  {
   "cell_type": "markdown",
   "id": "50187851",
   "metadata": {},
   "source": [
    "# MOwNiT - Laboratorium 2 - Dominik Jędraszek"
   ]
  },
  {
   "cell_type": "markdown",
   "id": "5463a932",
   "metadata": {},
   "source": [
    "#### Ponieżej programy do obliczania iloczynu skalarnego wektorów (o) i mnożenia macierzy kwadratowej przez wektor (m).  Dodatkowo funkcje weryfikują poprawność podawanych parametrów oraz zapisują wyniki do pliku csv."
   ]
  },
  {
   "cell_type": "code",
   "execution_count": 2,
   "id": "1a3f5919",
   "metadata": {},
   "outputs": [
    {
     "data": {
      "text/plain": [
       "m (generic function with 1 method)"
      ]
     },
     "execution_count": 2,
     "metadata": {},
     "output_type": "execute_result"
    }
   ],
   "source": [
    "# using Pkg\n",
    "#Pkg.add(\"LinearAlgebra\")\n",
    "# Pkg.add(\"DataFrames\")\n",
    "#Pkg.add(\"CSV\")\n",
    "using LinearAlgebra\n",
    "using DataFrames \n",
    "using CSV\n",
    "\n",
    " #iloczyn skalarny\n",
    "function o(a,b)\n",
    "    if(length(a)!=length(b)) return error(\"Invalid vectors\")\n",
    "    else\n",
    "        t=@elapsed res= dot(a,b)\n",
    "        df = DataFrame(operation=\"iloczyn skalarny\",size=length(a),time=t)\n",
    "        CSV.write(\"res.csv\", df,header =  filesize(\"res.csv\")==0, append = true)\n",
    "        return res\n",
    "    end\n",
    "end\n",
    "\n",
    "#mnozenie macierzy przez wektor\n",
    "function m(A,s)\n",
    "    if(size(A,1)^2 != length(A)) return error(\"Invalid matrix\")\n",
    "    else\n",
    "        u = UniformScaling(s);\n",
    "        t=@elapsed res= A*u\n",
    "        df = DataFrame(operation=\"mnozenie macierzy\",size=size(A,1),time=t)\n",
    "        CSV.write(\"res.csv\", df,header =  filesize(\"res.csv\")==0, append = true)\n",
    "        return res\n",
    "    end\n",
    "end"
   ]
  },
  {
   "cell_type": "markdown",
   "id": "ff602cc1",
   "metadata": {},
   "source": [
    "#### Test działania funkcji z wykorzystaniem losowych wektorów (rand) o różnych wielkościach. Wyniki czasu zapisane do pliku res.csv."
   ]
  },
  {
   "cell_type": "code",
   "execution_count": 12,
   "id": "ce92f5b0",
   "metadata": {},
   "outputs": [],
   "source": [
    "for _ in 1:10\n",
    "    for i in 1:10\n",
    "        randVector1=rand((1: 100), i*i,1)\n",
    "         randVector2=rand((1: 100), i*i,1)\n",
    "        o(randVector1,randVector1)\n",
    "    end\n",
    "\n",
    "    for i in 1:10\n",
    "        randMatrix=rand((1: 100), i*i,i*i)\n",
    "        randVector=rand((1:100))\n",
    "        m(randMatrix,randVector)\n",
    "    end\n",
    "end"
   ]
  },
  {
   "cell_type": "markdown",
   "id": "f583e00d",
   "metadata": {},
   "source": [
    "#### Wczytujemy dane. Struktura kolumn pliku csv jest następująca: operation (wykonywana operacja),size (wielkość danych (wektora/macierzy)),time (czas wykonywania operacji)"
   ]
  },
  {
   "cell_type": "code",
   "execution_count": 3,
   "id": "81758d83",
   "metadata": {},
   "outputs": [
    {
     "data": {
      "text/html": [
       "<div class=\"data-frame\"><p>200 rows × 3 columns</p><table class=\"data-frame\"><thead><tr><th></th><th>operation</th><th>size</th><th>time</th></tr><tr><th></th><th title=\"String31\">String31</th><th title=\"Int64\">Int64</th><th title=\"Float64\">Float64</th></tr></thead><tbody><tr><th>1</th><td>iloczyn skalarny</td><td>1</td><td>1.83e-7</td></tr><tr><th>2</th><td>iloczyn skalarny</td><td>4</td><td>9.6e-8</td></tr><tr><th>3</th><td>iloczyn skalarny</td><td>9</td><td>8.5e-8</td></tr><tr><th>4</th><td>iloczyn skalarny</td><td>16</td><td>1.37e-7</td></tr><tr><th>5</th><td>iloczyn skalarny</td><td>25</td><td>1.26e-7</td></tr><tr><th>6</th><td>iloczyn skalarny</td><td>36</td><td>1.25e-7</td></tr><tr><th>7</th><td>iloczyn skalarny</td><td>49</td><td>1.41e-7</td></tr><tr><th>8</th><td>iloczyn skalarny</td><td>64</td><td>1.05e-7</td></tr><tr><th>9</th><td>iloczyn skalarny</td><td>81</td><td>1.22e-7</td></tr><tr><th>10</th><td>iloczyn skalarny</td><td>100</td><td>1.56e-7</td></tr><tr><th>11</th><td>mnozenie macierzy</td><td>1</td><td>4.1e-7</td></tr><tr><th>12</th><td>mnozenie macierzy</td><td>4</td><td>3.11e-7</td></tr><tr><th>13</th><td>mnozenie macierzy</td><td>9</td><td>3.02e-7</td></tr><tr><th>14</th><td>mnozenie macierzy</td><td>16</td><td>1.027e-6</td></tr><tr><th>15</th><td>mnozenie macierzy</td><td>25</td><td>1.677e-6</td></tr><tr><th>16</th><td>mnozenie macierzy</td><td>36</td><td>2.429e-6</td></tr><tr><th>17</th><td>mnozenie macierzy</td><td>49</td><td>3.137e-6</td></tr><tr><th>18</th><td>mnozenie macierzy</td><td>64</td><td>4.527e-6</td></tr><tr><th>19</th><td>mnozenie macierzy</td><td>81</td><td>1.0405e-5</td></tr><tr><th>20</th><td>mnozenie macierzy</td><td>100</td><td>1.1467e-5</td></tr><tr><th>21</th><td>iloczyn skalarny</td><td>1</td><td>5.7e-8</td></tr><tr><th>22</th><td>iloczyn skalarny</td><td>4</td><td>1.18e-7</td></tr><tr><th>23</th><td>iloczyn skalarny</td><td>9</td><td>1.45e-7</td></tr><tr><th>24</th><td>iloczyn skalarny</td><td>16</td><td>1.36e-7</td></tr><tr><th>25</th><td>iloczyn skalarny</td><td>25</td><td>1.32e-7</td></tr><tr><th>26</th><td>iloczyn skalarny</td><td>36</td><td>1.24e-7</td></tr><tr><th>27</th><td>iloczyn skalarny</td><td>49</td><td>1.62e-7</td></tr><tr><th>28</th><td>iloczyn skalarny</td><td>64</td><td>1.4e-7</td></tr><tr><th>29</th><td>iloczyn skalarny</td><td>81</td><td>1.57e-7</td></tr><tr><th>30</th><td>iloczyn skalarny</td><td>100</td><td>1.61e-7</td></tr><tr><th>&vellip;</th><td>&vellip;</td><td>&vellip;</td><td>&vellip;</td></tr></tbody></table></div>"
      ],
      "text/latex": [
       "\\begin{tabular}{r|ccc}\n",
       "\t& operation & size & time\\\\\n",
       "\t\\hline\n",
       "\t& String31 & Int64 & Float64\\\\\n",
       "\t\\hline\n",
       "\t1 & iloczyn skalarny & 1 & 1.83e-7 \\\\\n",
       "\t2 & iloczyn skalarny & 4 & 9.6e-8 \\\\\n",
       "\t3 & iloczyn skalarny & 9 & 8.5e-8 \\\\\n",
       "\t4 & iloczyn skalarny & 16 & 1.37e-7 \\\\\n",
       "\t5 & iloczyn skalarny & 25 & 1.26e-7 \\\\\n",
       "\t6 & iloczyn skalarny & 36 & 1.25e-7 \\\\\n",
       "\t7 & iloczyn skalarny & 49 & 1.41e-7 \\\\\n",
       "\t8 & iloczyn skalarny & 64 & 1.05e-7 \\\\\n",
       "\t9 & iloczyn skalarny & 81 & 1.22e-7 \\\\\n",
       "\t10 & iloczyn skalarny & 100 & 1.56e-7 \\\\\n",
       "\t11 & mnozenie macierzy & 1 & 4.1e-7 \\\\\n",
       "\t12 & mnozenie macierzy & 4 & 3.11e-7 \\\\\n",
       "\t13 & mnozenie macierzy & 9 & 3.02e-7 \\\\\n",
       "\t14 & mnozenie macierzy & 16 & 1.027e-6 \\\\\n",
       "\t15 & mnozenie macierzy & 25 & 1.677e-6 \\\\\n",
       "\t16 & mnozenie macierzy & 36 & 2.429e-6 \\\\\n",
       "\t17 & mnozenie macierzy & 49 & 3.137e-6 \\\\\n",
       "\t18 & mnozenie macierzy & 64 & 4.527e-6 \\\\\n",
       "\t19 & mnozenie macierzy & 81 & 1.0405e-5 \\\\\n",
       "\t20 & mnozenie macierzy & 100 & 1.1467e-5 \\\\\n",
       "\t21 & iloczyn skalarny & 1 & 5.7e-8 \\\\\n",
       "\t22 & iloczyn skalarny & 4 & 1.18e-7 \\\\\n",
       "\t23 & iloczyn skalarny & 9 & 1.45e-7 \\\\\n",
       "\t24 & iloczyn skalarny & 16 & 1.36e-7 \\\\\n",
       "\t25 & iloczyn skalarny & 25 & 1.32e-7 \\\\\n",
       "\t26 & iloczyn skalarny & 36 & 1.24e-7 \\\\\n",
       "\t27 & iloczyn skalarny & 49 & 1.62e-7 \\\\\n",
       "\t28 & iloczyn skalarny & 64 & 1.4e-7 \\\\\n",
       "\t29 & iloczyn skalarny & 81 & 1.57e-7 \\\\\n",
       "\t30 & iloczyn skalarny & 100 & 1.61e-7 \\\\\n",
       "\t$\\dots$ & $\\dots$ & $\\dots$ & $\\dots$ \\\\\n",
       "\\end{tabular}\n"
      ],
      "text/plain": [
       "\u001b[1m200×3 DataFrame\u001b[0m\n",
       "\u001b[1m Row \u001b[0m│\u001b[1m operation         \u001b[0m\u001b[1m size  \u001b[0m\u001b[1m time     \u001b[0m\n",
       "\u001b[1m     \u001b[0m│\u001b[90m String31          \u001b[0m\u001b[90m Int64 \u001b[0m\u001b[90m Float64  \u001b[0m\n",
       "─────┼────────────────────────────────────\n",
       "   1 │ iloczyn skalarny       1  1.83e-7\n",
       "   2 │ iloczyn skalarny       4  9.6e-8\n",
       "   3 │ iloczyn skalarny       9  8.5e-8\n",
       "   4 │ iloczyn skalarny      16  1.37e-7\n",
       "   5 │ iloczyn skalarny      25  1.26e-7\n",
       "   6 │ iloczyn skalarny      36  1.25e-7\n",
       "   7 │ iloczyn skalarny      49  1.41e-7\n",
       "   8 │ iloczyn skalarny      64  1.05e-7\n",
       "   9 │ iloczyn skalarny      81  1.22e-7\n",
       "  10 │ iloczyn skalarny     100  1.56e-7\n",
       "  11 │ mnozenie macierzy      1  4.1e-7\n",
       "  ⋮  │         ⋮            ⋮       ⋮\n",
       " 191 │ mnozenie macierzy      1  2.0e-7\n",
       " 192 │ mnozenie macierzy      4  2.21e-7\n",
       " 193 │ mnozenie macierzy      9  2.73e-7\n",
       " 194 │ mnozenie macierzy     16  6.59e-7\n",
       " 195 │ mnozenie macierzy     25  1.664e-6\n",
       " 196 │ mnozenie macierzy     36  2.148e-6\n",
       " 197 │ mnozenie macierzy     49  2.692e-6\n",
       " 198 │ mnozenie macierzy     64  4.751e-6\n",
       " 199 │ mnozenie macierzy     81  6.574e-6\n",
       " 200 │ mnozenie macierzy    100  7.765e-6\n",
       "\u001b[36m                          179 rows omitted\u001b[0m"
      ]
     },
     "execution_count": 3,
     "metadata": {},
     "output_type": "execute_result"
    }
   ],
   "source": [
    "mydata = CSV.read(\"res.csv\", delim=\",\", DataFrame)"
   ]
  },
  {
   "cell_type": "markdown",
   "id": "4a52289c",
   "metadata": {},
   "source": [
    "#### Przystosowywujemy tabelę do rysowania wykresów średnich czasów obliczenia operacji w zależności od rozmiaru wektora wraz z błędem. W tym celu: \n",
    "- grupujemy testy o tych samych operacjach oraz wielkościach,\n",
    "- dodajemy i obliczamy kolumny: średniej (time_mean) i odchylenia standardowego(time_std)."
   ]
  },
  {
   "cell_type": "code",
   "execution_count": 4,
   "id": "8454944f",
   "metadata": {},
   "outputs": [
    {
     "data": {
      "text/html": [
       "<div class=\"data-frame\"><p>20 rows × 5 columns</p><table class=\"data-frame\"><thead><tr><th></th><th>operation</th><th>size</th><th>liczba_testow</th><th>time_mean</th><th>time_std</th></tr><tr><th></th><th title=\"String31\">String31</th><th title=\"Int64\">Int64</th><th title=\"Int64\">Int64</th><th title=\"Float64\">Float64</th><th title=\"Float64\">Float64</th></tr></thead><tbody><tr><th>1</th><td>iloczyn skalarny</td><td>1</td><td>10</td><td>7.44e-8</td><td>3.84973e-8</td></tr><tr><th>2</th><td>iloczyn skalarny</td><td>4</td><td>10</td><td>1.007e-7</td><td>2.54124e-8</td></tr><tr><th>3</th><td>iloczyn skalarny</td><td>9</td><td>10</td><td>1.067e-7</td><td>2.09658e-8</td></tr><tr><th>4</th><td>iloczyn skalarny</td><td>16</td><td>10</td><td>1.09e-7</td><td>1.92988e-8</td></tr><tr><th>5</th><td>iloczyn skalarny</td><td>25</td><td>10</td><td>1.141e-7</td><td>1.98631e-8</td></tr><tr><th>6</th><td>iloczyn skalarny</td><td>36</td><td>10</td><td>1.406e-7</td><td>4.10073e-8</td></tr><tr><th>7</th><td>iloczyn skalarny</td><td>49</td><td>10</td><td>1.291e-7</td><td>1.58916e-8</td></tr><tr><th>8</th><td>iloczyn skalarny</td><td>64</td><td>10</td><td>1.329e-7</td><td>1.79843e-8</td></tr><tr><th>9</th><td>iloczyn skalarny</td><td>81</td><td>10</td><td>1.547e-7</td><td>3.46604e-8</td></tr><tr><th>10</th><td>iloczyn skalarny</td><td>100</td><td>10</td><td>1.781e-7</td><td>3.98398e-8</td></tr><tr><th>11</th><td>mnozenie macierzy</td><td>1</td><td>10</td><td>2.5e-7</td><td>8.83088e-8</td></tr><tr><th>12</th><td>mnozenie macierzy</td><td>4</td><td>10</td><td>2.669e-7</td><td>3.23503e-8</td></tr><tr><th>13</th><td>mnozenie macierzy</td><td>9</td><td>10</td><td>2.698e-7</td><td>2.84987e-8</td></tr><tr><th>14</th><td>mnozenie macierzy</td><td>16</td><td>10</td><td>8.885e-7</td><td>2.71143e-7</td></tr><tr><th>15</th><td>mnozenie macierzy</td><td>25</td><td>10</td><td>1.5569e-6</td><td>9.72048e-8</td></tr><tr><th>16</th><td>mnozenie macierzy</td><td>36</td><td>10</td><td>2.296e-6</td><td>1.33417e-7</td></tr><tr><th>17</th><td>mnozenie macierzy</td><td>49</td><td>10</td><td>3.0249e-6</td><td>3.7669e-7</td></tr><tr><th>18</th><td>mnozenie macierzy</td><td>64</td><td>10</td><td>4.4983e-6</td><td>3.10071e-7</td></tr><tr><th>19</th><td>mnozenie macierzy</td><td>81</td><td>10</td><td>7.366e-6</td><td>1.1741e-6</td></tr><tr><th>20</th><td>mnozenie macierzy</td><td>100</td><td>10</td><td>9.679e-6</td><td>1.39549e-6</td></tr></tbody></table></div>"
      ],
      "text/latex": [
       "\\begin{tabular}{r|ccccc}\n",
       "\t& operation & size & liczba\\_testow & time\\_mean & time\\_std\\\\\n",
       "\t\\hline\n",
       "\t& String31 & Int64 & Int64 & Float64 & Float64\\\\\n",
       "\t\\hline\n",
       "\t1 & iloczyn skalarny & 1 & 10 & 7.44e-8 & 3.84973e-8 \\\\\n",
       "\t2 & iloczyn skalarny & 4 & 10 & 1.007e-7 & 2.54124e-8 \\\\\n",
       "\t3 & iloczyn skalarny & 9 & 10 & 1.067e-7 & 2.09658e-8 \\\\\n",
       "\t4 & iloczyn skalarny & 16 & 10 & 1.09e-7 & 1.92988e-8 \\\\\n",
       "\t5 & iloczyn skalarny & 25 & 10 & 1.141e-7 & 1.98631e-8 \\\\\n",
       "\t6 & iloczyn skalarny & 36 & 10 & 1.406e-7 & 4.10073e-8 \\\\\n",
       "\t7 & iloczyn skalarny & 49 & 10 & 1.291e-7 & 1.58916e-8 \\\\\n",
       "\t8 & iloczyn skalarny & 64 & 10 & 1.329e-7 & 1.79843e-8 \\\\\n",
       "\t9 & iloczyn skalarny & 81 & 10 & 1.547e-7 & 3.46604e-8 \\\\\n",
       "\t10 & iloczyn skalarny & 100 & 10 & 1.781e-7 & 3.98398e-8 \\\\\n",
       "\t11 & mnozenie macierzy & 1 & 10 & 2.5e-7 & 8.83088e-8 \\\\\n",
       "\t12 & mnozenie macierzy & 4 & 10 & 2.669e-7 & 3.23503e-8 \\\\\n",
       "\t13 & mnozenie macierzy & 9 & 10 & 2.698e-7 & 2.84987e-8 \\\\\n",
       "\t14 & mnozenie macierzy & 16 & 10 & 8.885e-7 & 2.71143e-7 \\\\\n",
       "\t15 & mnozenie macierzy & 25 & 10 & 1.5569e-6 & 9.72048e-8 \\\\\n",
       "\t16 & mnozenie macierzy & 36 & 10 & 2.296e-6 & 1.33417e-7 \\\\\n",
       "\t17 & mnozenie macierzy & 49 & 10 & 3.0249e-6 & 3.7669e-7 \\\\\n",
       "\t18 & mnozenie macierzy & 64 & 10 & 4.4983e-6 & 3.10071e-7 \\\\\n",
       "\t19 & mnozenie macierzy & 81 & 10 & 7.366e-6 & 1.1741e-6 \\\\\n",
       "\t20 & mnozenie macierzy & 100 & 10 & 9.679e-6 & 1.39549e-6 \\\\\n",
       "\\end{tabular}\n"
      ],
      "text/plain": [
       "\u001b[1m20×5 DataFrame\u001b[0m\n",
       "\u001b[1m Row \u001b[0m│\u001b[1m operation         \u001b[0m\u001b[1m size  \u001b[0m\u001b[1m liczba_testow \u001b[0m\u001b[1m time_mean \u001b[0m\u001b[1m time_std   \u001b[0m\n",
       "\u001b[1m     \u001b[0m│\u001b[90m String31          \u001b[0m\u001b[90m Int64 \u001b[0m\u001b[90m Int64         \u001b[0m\u001b[90m Float64   \u001b[0m\u001b[90m Float64    \u001b[0m\n",
       "─────┼────────────────────────────────────────────────────────────────\n",
       "   1 │ iloczyn skalarny       1             10  7.44e-8    3.84973e-8\n",
       "   2 │ iloczyn skalarny       4             10  1.007e-7   2.54124e-8\n",
       "   3 │ iloczyn skalarny       9             10  1.067e-7   2.09658e-8\n",
       "   4 │ iloczyn skalarny      16             10  1.09e-7    1.92988e-8\n",
       "   5 │ iloczyn skalarny      25             10  1.141e-7   1.98631e-8\n",
       "   6 │ iloczyn skalarny      36             10  1.406e-7   4.10073e-8\n",
       "   7 │ iloczyn skalarny      49             10  1.291e-7   1.58916e-8\n",
       "   8 │ iloczyn skalarny      64             10  1.329e-7   1.79843e-8\n",
       "   9 │ iloczyn skalarny      81             10  1.547e-7   3.46604e-8\n",
       "  10 │ iloczyn skalarny     100             10  1.781e-7   3.98398e-8\n",
       "  11 │ mnozenie macierzy      1             10  2.5e-7     8.83088e-8\n",
       "  12 │ mnozenie macierzy      4             10  2.669e-7   3.23503e-8\n",
       "  13 │ mnozenie macierzy      9             10  2.698e-7   2.84987e-8\n",
       "  14 │ mnozenie macierzy     16             10  8.885e-7   2.71143e-7\n",
       "  15 │ mnozenie macierzy     25             10  1.5569e-6  9.72048e-8\n",
       "  16 │ mnozenie macierzy     36             10  2.296e-6   1.33417e-7\n",
       "  17 │ mnozenie macierzy     49             10  3.0249e-6  3.7669e-7\n",
       "  18 │ mnozenie macierzy     64             10  4.4983e-6  3.10071e-7\n",
       "  19 │ mnozenie macierzy     81             10  7.366e-6   1.1741e-6\n",
       "  20 │ mnozenie macierzy    100             10  9.679e-6   1.39549e-6"
      ]
     },
     "execution_count": 4,
     "metadata": {},
     "output_type": "execute_result"
    }
   ],
   "source": [
    "using Statistics\n",
    "grouped = sort(combine(groupby(mydata, [:operation,:size]), nrow=> :liczba_testow,\"time\" => mean,\"time\"=>std),[:operation,:size])"
   ]
  },
  {
   "cell_type": "markdown",
   "id": "fac3f265",
   "metadata": {},
   "source": [
    "#### Tworzymy wykresy wykorzystając przy tym właściwość layout. Dodatkowo łączymy odpowiednie wykresy, by przedstawić odchylenie standardowe czasu obliczeń oraz średnia na jednym wykresie."
   ]
  },
  {
   "cell_type": "code",
   "execution_count": null,
   "id": "e7c153a2",
   "metadata": {},
   "outputs": [],
   "source": [
    "using Plots\n",
    "p1 =scatter(grouped.size, grouped.time_mean, group=grouped.operation,  colour = :yellow, layout=2,title=[\"Iloczyn skalarny\" \"Mnożenie macierzy\" ],label=\"średnia\")\n",
    "p2 =plot!(p1,grouped.size, grouped.time_mean+grouped.time_std, group=grouped.operation,  colour = :red, layout=2,label=\"błąd\")\n",
    "plot!(p1,grouped.size, grouped.time_mean-grouped.time_std, group=grouped.operation,  colour = :red, layout=2,label=\"\")\n",
    "xlabel!(\"Rozmiar wektora\")\n",
    "ylabel!(\"Czas\")"
   ]
  },
  {
   "cell_type": "markdown",
   "id": "25164055",
   "metadata": {},
   "source": [
    "WNIOSKI:\n",
    "- czas wykonywania obydwu funkcji jest proporcjonalny do wielkości wektora.\n",
    "- iloczyn skalarny jest wykonywany przez komputer szybciej, niż mnożenie macierzy.\n",
    "- funkcja do obliczania iloczynu skalarnego jest stabilniejsza.\n"
   ]
  }
 ],
 "metadata": {
  "kernelspec": {
   "display_name": "Julia 1.5.3",
   "language": "julia",
   "name": "julia-1.5"
  },
  "language_info": {
   "file_extension": ".jl",
   "mimetype": "application/julia",
   "name": "julia",
   "version": "1.5.3"
  }
 },
 "nbformat": 4,
 "nbformat_minor": 5
}
