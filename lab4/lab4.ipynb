{
 "cells": [
  {
   "cell_type": "markdown",
   "id": "7e77ed20",
   "metadata": {},
   "source": [
    "### MOwNiT - Labolatorium 4 - Dominik Jędraszek"
   ]
  },
  {
   "cell_type": "markdown",
   "id": "3e88866e",
   "metadata": {},
   "source": [
    "#### 1. Porównanie różnych metod mnożenia macierzy kwadratowej"
   ]
  },
  {
   "cell_type": "code",
   "execution_count": 3,
   "id": "b22ca898",
   "metadata": {},
   "outputs": [
    {
     "data": {
      "text/plain": [
       "blas_multiplication (generic function with 1 method)"
      ]
     },
     "execution_count": 3,
     "metadata": {},
     "output_type": "execute_result"
    }
   ],
   "source": [
    "function naive_multiplication(A,B)\n",
    "    n= length(A[:,1])\n",
    "    C = zeros(Float64, n,n)\n",
    "    for i=1:n\n",
    "        for j=1:n\n",
    "            for k=1:n\n",
    "                C[i,j] += A[i,k]*B[k,j]\n",
    "            end\n",
    "        end\n",
    "    end\n",
    "    return C\n",
    "end\n",
    "function better_multiplication(A, B)\n",
    "     n= length(A[:,1])\n",
    "    C = zeros(Float64, n,n)\n",
    "    for j=1:n\n",
    "        for k=1:n\n",
    "            for i=1:n\n",
    "                C[i,j] += A[i,k]*B[k,j]\n",
    "            end\n",
    "        end\n",
    "    end\n",
    "    return C\n",
    "end\n",
    "function blas_multiplication(A,B)\n",
    "    return A*B\n",
    "end"
   ]
  },
  {
   "cell_type": "markdown",
   "id": "045506b6",
   "metadata": {},
   "source": [
    "Poniżej testy dla coraz większych macierzy kwadratowych wraz z mierzeniem czasu:"
   ]
  },
  {
   "cell_type": "code",
   "execution_count": 6,
   "id": "13c83059",
   "metadata": {},
   "outputs": [
    {
     "data": {
      "text/html": [
       "<div class=\"data-frame\"><p>100 rows × 3 columns</p><table class=\"data-frame\"><thead><tr><th></th><th>method</th><th>size</th><th>time</th></tr><tr><th></th><th title=\"String\">String</th><th title=\"Int64\">Int64</th><th title=\"Float64\">Float64</th></tr></thead><tbody><tr><th>1</th><td>better</td><td>5</td><td>7.26e-7</td></tr><tr><th>2</th><td>blas</td><td>5</td><td>7.27e-7</td></tr><tr><th>3</th><td>better</td><td>10</td><td>2.545e-6</td></tr><tr><th>4</th><td>blas</td><td>10</td><td>2.334e-6</td></tr><tr><th>5</th><td>better</td><td>15</td><td>7.429e-6</td></tr><tr><th>6</th><td>blas</td><td>15</td><td>2.672e-6</td></tr><tr><th>7</th><td>better</td><td>20</td><td>1.7523e-5</td></tr><tr><th>8</th><td>blas</td><td>20</td><td>3.064e-6</td></tr><tr><th>9</th><td>better</td><td>25</td><td>3.0472e-5</td></tr><tr><th>10</th><td>blas</td><td>25</td><td>6.982e-6</td></tr><tr><th>11</th><td>better</td><td>5</td><td>6.03e-7</td></tr><tr><th>12</th><td>blas</td><td>5</td><td>5.52e-7</td></tr><tr><th>13</th><td>better</td><td>10</td><td>2.358e-6</td></tr><tr><th>14</th><td>blas</td><td>10</td><td>7.56e-7</td></tr><tr><th>15</th><td>better</td><td>15</td><td>7.321e-6</td></tr><tr><th>16</th><td>blas</td><td>15</td><td>1.562e-6</td></tr><tr><th>17</th><td>better</td><td>20</td><td>1.6155e-5</td></tr><tr><th>18</th><td>blas</td><td>20</td><td>2.151e-6</td></tr><tr><th>19</th><td>better</td><td>25</td><td>3.1096e-5</td></tr><tr><th>20</th><td>blas</td><td>25</td><td>3.52e-6</td></tr><tr><th>21</th><td>better</td><td>5</td><td>9.45e-7</td></tr><tr><th>22</th><td>blas</td><td>5</td><td>5.3e-7</td></tr><tr><th>23</th><td>better</td><td>10</td><td>2.185e-6</td></tr><tr><th>24</th><td>blas</td><td>10</td><td>5.3e-7</td></tr><tr><th>25</th><td>better</td><td>15</td><td>6.982e-6</td></tr><tr><th>26</th><td>blas</td><td>15</td><td>1.303e-6</td></tr><tr><th>27</th><td>better</td><td>20</td><td>1.6114e-5</td></tr><tr><th>28</th><td>blas</td><td>20</td><td>1.865e-6</td></tr><tr><th>29</th><td>better</td><td>25</td><td>3.0465e-5</td></tr><tr><th>30</th><td>blas</td><td>25</td><td>3.227e-6</td></tr><tr><th>&vellip;</th><td>&vellip;</td><td>&vellip;</td><td>&vellip;</td></tr></tbody></table></div>"
      ],
      "text/latex": [
       "\\begin{tabular}{r|ccc}\n",
       "\t& method & size & time\\\\\n",
       "\t\\hline\n",
       "\t& String & Int64 & Float64\\\\\n",
       "\t\\hline\n",
       "\t1 & better & 5 & 7.26e-7 \\\\\n",
       "\t2 & blas & 5 & 7.27e-7 \\\\\n",
       "\t3 & better & 10 & 2.545e-6 \\\\\n",
       "\t4 & blas & 10 & 2.334e-6 \\\\\n",
       "\t5 & better & 15 & 7.429e-6 \\\\\n",
       "\t6 & blas & 15 & 2.672e-6 \\\\\n",
       "\t7 & better & 20 & 1.7523e-5 \\\\\n",
       "\t8 & blas & 20 & 3.064e-6 \\\\\n",
       "\t9 & better & 25 & 3.0472e-5 \\\\\n",
       "\t10 & blas & 25 & 6.982e-6 \\\\\n",
       "\t11 & better & 5 & 6.03e-7 \\\\\n",
       "\t12 & blas & 5 & 5.52e-7 \\\\\n",
       "\t13 & better & 10 & 2.358e-6 \\\\\n",
       "\t14 & blas & 10 & 7.56e-7 \\\\\n",
       "\t15 & better & 15 & 7.321e-6 \\\\\n",
       "\t16 & blas & 15 & 1.562e-6 \\\\\n",
       "\t17 & better & 20 & 1.6155e-5 \\\\\n",
       "\t18 & blas & 20 & 2.151e-6 \\\\\n",
       "\t19 & better & 25 & 3.1096e-5 \\\\\n",
       "\t20 & blas & 25 & 3.52e-6 \\\\\n",
       "\t21 & better & 5 & 9.45e-7 \\\\\n",
       "\t22 & blas & 5 & 5.3e-7 \\\\\n",
       "\t23 & better & 10 & 2.185e-6 \\\\\n",
       "\t24 & blas & 10 & 5.3e-7 \\\\\n",
       "\t25 & better & 15 & 6.982e-6 \\\\\n",
       "\t26 & blas & 15 & 1.303e-6 \\\\\n",
       "\t27 & better & 20 & 1.6114e-5 \\\\\n",
       "\t28 & blas & 20 & 1.865e-6 \\\\\n",
       "\t29 & better & 25 & 3.0465e-5 \\\\\n",
       "\t30 & blas & 25 & 3.227e-6 \\\\\n",
       "\t$\\dots$ & $\\dots$ & $\\dots$ & $\\dots$ \\\\\n",
       "\\end{tabular}\n"
      ],
      "text/plain": [
       "\u001b[1m100×3 DataFrame\u001b[0m\n",
       "\u001b[1m Row \u001b[0m│\u001b[1m method \u001b[0m\u001b[1m size  \u001b[0m\u001b[1m time      \u001b[0m\n",
       "\u001b[1m     \u001b[0m│\u001b[90m String \u001b[0m\u001b[90m Int64 \u001b[0m\u001b[90m Float64   \u001b[0m\n",
       "─────┼──────────────────────────\n",
       "   1 │ better      5  7.26e-7\n",
       "   2 │ blas        5  7.27e-7\n",
       "   3 │ better     10  2.545e-6\n",
       "   4 │ blas       10  2.334e-6\n",
       "   5 │ better     15  7.429e-6\n",
       "   6 │ blas       15  2.672e-6\n",
       "   7 │ better     20  1.7523e-5\n",
       "   8 │ blas       20  3.064e-6\n",
       "   9 │ better     25  3.0472e-5\n",
       "  10 │ blas       25  6.982e-6\n",
       "  11 │ better      5  6.03e-7\n",
       "  ⋮  │   ⋮       ⋮        ⋮\n",
       "  91 │ better      5  4.95e-7\n",
       "  92 │ blas        5  3.52e-7\n",
       "  93 │ better     10  2.197e-6\n",
       "  94 │ blas       10  5.28e-7\n",
       "  95 │ better     15  7.338e-6\n",
       "  96 │ blas       15  1.458e-6\n",
       "  97 │ better     20  1.6507e-5\n",
       "  98 │ blas       20  1.84e-6\n",
       "  99 │ better     25  3.0778e-5\n",
       " 100 │ blas       25  3.113e-6\n",
       "\u001b[36m                 79 rows omitted\u001b[0m"
      ]
     },
     "execution_count": 6,
     "metadata": {},
     "output_type": "execute_result"
    }
   ],
   "source": [
    "#using Pkg\n",
    "#Pkg.add(\"DataFrames\")\n",
    "using DataFrames\n",
    "\n",
    "method=[\"\" for _ in 1:(10*5*2)]\n",
    "size=[0 for _ in 1:(10*5*2)]\n",
    "time=zeros(10*5*2)\n",
    "cnt = 1\n",
    "for i = 1:10\n",
    "    for n in [5,10,15,20,25]\n",
    "        m1=rand(n,n)\n",
    "        m2=rand(n,n)\n",
    "        \n",
    "         if(cnt==1) #pierwszy test bez zapisu\n",
    "            better_multiplication(m1,m2)\n",
    "            blas_multiplication(m1,m2)\n",
    "        end\n",
    "        \n",
    "        method[cnt]=\"better\"\n",
    "        size[cnt]=n\n",
    "        time[cnt] = @elapsed better_multiplication(m1,m2)\n",
    "        cnt+=1\n",
    "        \n",
    "        method[cnt]=\"blas\"\n",
    "        size[cnt]=n\n",
    "        time[cnt] = @elapsed blas_multiplication(m1,m2)\n",
    "        cnt+=1\n",
    "    end\n",
    "end\n",
    "\n",
    "data = DataFrame(method=method,size= size,time=time)"
   ]
  },
  {
   "cell_type": "markdown",
   "id": "f1a0bc23",
   "metadata": {},
   "source": [
    "Grupowanie danych:"
   ]
  },
  {
   "cell_type": "code",
   "execution_count": 3,
   "id": "c6f7decc",
   "metadata": {},
   "outputs": [
    {
     "data": {
      "text/html": [
       "<div class=\"data-frame\"><p>15 rows × 5 columns</p><table class=\"data-frame\"><thead><tr><th></th><th>method</th><th>size</th><th>no_tests</th><th>time_mean</th><th>time_std</th></tr><tr><th></th><th title=\"String\">String</th><th title=\"Int64\">Int64</th><th title=\"Int64\">Int64</th><th title=\"Float64\">Float64</th><th title=\"Float64\">Float64</th></tr></thead><tbody><tr><th>1</th><td>better</td><td>5</td><td>10</td><td>8.54e-7</td><td>7.12213e-7</td></tr><tr><th>2</th><td>better</td><td>10</td><td>10</td><td>3.5382e-6</td><td>4.13596e-6</td></tr><tr><th>3</th><td>better</td><td>15</td><td>10</td><td>7.1233e-6</td><td>1.69042e-7</td></tr><tr><th>4</th><td>better</td><td>20</td><td>10</td><td>1.83493e-5</td><td>2.33796e-6</td></tr><tr><th>5</th><td>better</td><td>25</td><td>10</td><td>3.06924e-5</td><td>4.81071e-7</td></tr><tr><th>6</th><td>blas</td><td>5</td><td>10</td><td>9.113e-7</td><td>1.61264e-6</td></tr><tr><th>7</th><td>blas</td><td>10</td><td>10</td><td>8.155e-7</td><td>3.76982e-7</td></tr><tr><th>8</th><td>blas</td><td>15</td><td>10</td><td>1.4426e-6</td><td>3.46488e-7</td></tr><tr><th>9</th><td>blas</td><td>20</td><td>10</td><td>2.0353e-6</td><td>3.19751e-7</td></tr><tr><th>10</th><td>blas</td><td>25</td><td>10</td><td>4.1754e-6</td><td>3.18703e-6</td></tr><tr><th>11</th><td>naive</td><td>5</td><td>10</td><td>8.267e-7</td><td>9.25618e-7</td></tr><tr><th>12</th><td>naive</td><td>10</td><td>10</td><td>2.7473e-6</td><td>1.65652e-7</td></tr><tr><th>13</th><td>naive</td><td>15</td><td>10</td><td>9.5822e-6</td><td>1.88361e-6</td></tr><tr><th>14</th><td>naive</td><td>20</td><td>10</td><td>2.08749e-5</td><td>1.04653e-6</td></tr><tr><th>15</th><td>naive</td><td>25</td><td>10</td><td>4.08785e-5</td><td>6.12627e-7</td></tr></tbody></table></div>"
      ],
      "text/latex": [
       "\\begin{tabular}{r|ccccc}\n",
       "\t& method & size & no\\_tests & time\\_mean & time\\_std\\\\\n",
       "\t\\hline\n",
       "\t& String & Int64 & Int64 & Float64 & Float64\\\\\n",
       "\t\\hline\n",
       "\t1 & better & 5 & 10 & 8.54e-7 & 7.12213e-7 \\\\\n",
       "\t2 & better & 10 & 10 & 3.5382e-6 & 4.13596e-6 \\\\\n",
       "\t3 & better & 15 & 10 & 7.1233e-6 & 1.69042e-7 \\\\\n",
       "\t4 & better & 20 & 10 & 1.83493e-5 & 2.33796e-6 \\\\\n",
       "\t5 & better & 25 & 10 & 3.06924e-5 & 4.81071e-7 \\\\\n",
       "\t6 & blas & 5 & 10 & 9.113e-7 & 1.61264e-6 \\\\\n",
       "\t7 & blas & 10 & 10 & 8.155e-7 & 3.76982e-7 \\\\\n",
       "\t8 & blas & 15 & 10 & 1.4426e-6 & 3.46488e-7 \\\\\n",
       "\t9 & blas & 20 & 10 & 2.0353e-6 & 3.19751e-7 \\\\\n",
       "\t10 & blas & 25 & 10 & 4.1754e-6 & 3.18703e-6 \\\\\n",
       "\t11 & naive & 5 & 10 & 8.267e-7 & 9.25618e-7 \\\\\n",
       "\t12 & naive & 10 & 10 & 2.7473e-6 & 1.65652e-7 \\\\\n",
       "\t13 & naive & 15 & 10 & 9.5822e-6 & 1.88361e-6 \\\\\n",
       "\t14 & naive & 20 & 10 & 2.08749e-5 & 1.04653e-6 \\\\\n",
       "\t15 & naive & 25 & 10 & 4.08785e-5 & 6.12627e-7 \\\\\n",
       "\\end{tabular}\n"
      ],
      "text/plain": [
       "\u001b[1m15×5 DataFrame\u001b[0m\n",
       "\u001b[1m Row \u001b[0m│\u001b[1m method \u001b[0m\u001b[1m size  \u001b[0m\u001b[1m no_tests \u001b[0m\u001b[1m time_mean  \u001b[0m\u001b[1m time_std   \u001b[0m\n",
       "\u001b[1m     \u001b[0m│\u001b[90m String \u001b[0m\u001b[90m Int64 \u001b[0m\u001b[90m Int64    \u001b[0m\u001b[90m Float64    \u001b[0m\u001b[90m Float64    \u001b[0m\n",
       "─────┼─────────────────────────────────────────────────\n",
       "   1 │ better      5        10  8.54e-7     7.12213e-7\n",
       "   2 │ better     10        10  3.5382e-6   4.13596e-6\n",
       "   3 │ better     15        10  7.1233e-6   1.69042e-7\n",
       "   4 │ better     20        10  1.83493e-5  2.33796e-6\n",
       "   5 │ better     25        10  3.06924e-5  4.81071e-7\n",
       "   6 │ blas        5        10  9.113e-7    1.61264e-6\n",
       "   7 │ blas       10        10  8.155e-7    3.76982e-7\n",
       "   8 │ blas       15        10  1.4426e-6   3.46488e-7\n",
       "   9 │ blas       20        10  2.0353e-6   3.19751e-7\n",
       "  10 │ blas       25        10  4.1754e-6   3.18703e-6\n",
       "  11 │ naive       5        10  8.267e-7    9.25618e-7\n",
       "  12 │ naive      10        10  2.7473e-6   1.65652e-7\n",
       "  13 │ naive      15        10  9.5822e-6   1.88361e-6\n",
       "  14 │ naive      20        10  2.08749e-5  1.04653e-6\n",
       "  15 │ naive      25        10  4.08785e-5  6.12627e-7"
      ]
     },
     "execution_count": 3,
     "metadata": {},
     "output_type": "execute_result"
    }
   ],
   "source": [
    "using Statistics\n",
    "grouped = sort(combine(groupby(data, [:method,:size]), nrow=> :no_tests,\"time\" => mean,\"time\"=>std),[:method,:size])"
   ]
  },
  {
   "cell_type": "markdown",
   "id": "8821e021",
   "metadata": {},
   "source": [
    "Rysowanie wykresu zależyności czasu od rozmiaru macierzy wraz z słupkami błędów:"
   ]
  },
  {
   "cell_type": "code",
   "execution_count": 4,
   "id": "0e47978f",
   "metadata": {},
   "outputs": [
    {
     "data": {
      "image/png": "[encoded data removed]"
     },
     "execution_count": 4,
     "metadata": {},
     "output_type": "execute_result"
    }
   ],
   "source": [
    "#import Pkg; Pkg.add(\"Plots\")\n",
    "using Plots\n",
    "default(fmt = :png)\n",
    "p=scatter(grouped.size, grouped.time_mean, group=grouped.method,yerror=grouped.time_std, layout=1,label=[\"better\" \"blas\" \"naive\"])\n",
    "xlabel!(\"Rozmiar macierzy\")\n",
    "ylabel!(\"Czas [s]\")"
   ]
  },
  {
   "cell_type": "markdown",
   "id": "d6c43642",
   "metadata": {},
   "source": [
    "#### 1. Użyć funkcji polyfit z pakietu Polynomials do znalezienia odpowiednich wielomianów, które najlepiej pasują do zależności czasowych każdego z algorytmów. Najlepiej sprawdzi się tu wielomian drugiego stopnia:"
   ]
  },
  {
   "cell_type": "code",
   "execution_count": 10,
   "id": "e8921070",
   "metadata": {},
   "outputs": [
    {
     "data": {
      "image/png": "[encoded data removed]"
     },
     "execution_count": 10,
     "metadata": {},
     "output_type": "execute_result"
    }
   ],
   "source": [
    "using Polynomials\n",
    "blas = grouped[grouped.method .== \"blas\", :]\n",
    "naive = grouped[grouped.method .== \"naive\", :]\n",
    "better = grouped[grouped.method .== \"better\", :]\n",
    "\n",
    "plot!(polyfit(better.size, better.time_mean,2),label=\"betterfit\",color=\"blue\",extrema(better.size)...)\n",
    "plot!(polyfit(blas.size, blas.time_mean,2),label=\"blasfit\",color=\"orange\",extrema(blas.size)...)\n",
    "plot!(polyfit(naive.size, naive.time_mean,2),label=\"naivefit\",color=\"green\",extrema(naive.size)...)"
   ]
  },
  {
   "cell_type": "code",
   "execution_count": 7,
   "id": "302df19d",
   "metadata": {},
   "outputs": [
    {
     "data": {
      "text/plain": [
       "\"res.csv\""
      ]
     },
     "execution_count": 7,
     "metadata": {},
     "output_type": "execute_result"
    }
   ],
   "source": [
    "using CSV\n",
    "\n",
    " CSV.write(\"res.csv\", data,header =  filesize(\"res.csv\")==0)"
   ]
  },
  {
   "cell_type": "code",
   "execution_count": null,
   "id": "250ba202",
   "metadata": {},
   "outputs": [],
   "source": []
  }
 ],
 "metadata": {
  "kernelspec": {
   "display_name": "Julia 1.6.6",
   "language": "julia",
   "name": "julia-1.6"
  },
  "language_info": {
   "file_extension": ".jl",
   "mimetype": "application/julia",
   "name": "julia",
   "version": "1.6.6"
  }
 },
 "nbformat": 4,
 "nbformat_minor": 5
}
